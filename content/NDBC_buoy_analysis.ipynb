{
 "cells": [
  {
   "cell_type": "markdown",
   "metadata": {},
   "source": [
    "# NOAA NDBC buoy data analysis\n",
    "***\n",
    "Lesson for learning python.<br> Practicing downloading, opening, and analyzing buoy data from NDBC: https://www.ndbc.noaa.gov/\n",
    "\n",
    "\n",
    "With JupyterLite, your code is broken up into “Cells”, and you can run each cell individually. This allows you to work progressively and view the results of each chunk of code. Hover over the symbols at the top of this notebook to see what they do. "
   ]
  },
  {
   "cell_type": "markdown",
   "metadata": {},
   "source": [
    "### 1. Import packages\n",
    "***\n",
    "First we’ll import some commonly used libraries into our notebook that are used to open, manipulate, and plot data. See the four packages listed in the cell below: [pandas](https://pypi.org/project/pandas/), [matplotlib](https://matplotlib.org/), [numpy](https://numpy.org/), and [datetime](https://docs.python.org/3/library/datetime.html).\n",
    "\n",
    "Click on the gray code cell below. A border should appear around the cell.\n",
    "\n",
    "To run the cell, press **<em>shift + enter</em>** on your keyboard, or click the single right-pointing arrow on the ribbon at the top of the notebook. While the code is running, an asterisk [\\*] will appear in the brackets left of the cells. You will know the code cell ran successfully if a number [1] appears in the bracket."
   ]
  },
  {
   "cell_type": "code",
   "execution_count": 1,
   "metadata": {},
   "outputs": [],
   "source": [
    "# this is a comment, using a hashtag\n",
    "# use comments to make notes of what you're doing\n",
    "\n",
    "# import packages\n",
    "import pandas as pd\n",
    "import matplotlib.pyplot as plt\n",
    "import numpy as np\n",
    "import datetime"
   ]
  },
  {
   "cell_type": "markdown",
   "metadata": {},
   "source": [
    "### 2. Download NDBC buoy data\n",
    "***\n",
    "\n",
    "We are going to look at data from Station Papa, which is one of the oldest continuous monitoring stations in the ocean.\n",
    "\n",
    "Go to https://www.ndbc.noaa.gov/ and type 46246 in the Station ID Search bar.\n",
    "\n",
    "Scroll all the way to the bottom of the page and click on the link for “Historical Data & Climatic Summaries”. \n",
    "\n",
    "You will be brought to a new page: pick any year you want that is available after “Standard meteorological data”. \n",
    "\n",
    "Click the file link under **Method Two**, the save the file to your computer. Give the file an appropriate name (or keep as is) and keep track of where you save it. To save, either right cilck somewhere on the screen and select **Save as...** OR select \"File\" on the browser menu and then select \"Save As\"\n",
    "\n",
    "\n",
    "You can view the data in its raw, text format if you want. Click on the file and check it out! If you need help interpreting the names at the top of the columns, check out this legend on the NDBC site: https://www.ndbc.noaa.gov/faq/measdes.shtml"
   ]
  },
  {
   "cell_type": "markdown",
   "metadata": {},
   "source": [
    "### 3. Import NDBC buoy data\n",
    "***\n",
    "\n",
    "<img src=\"supp_info/data_file.png\" width=\"200\" align=\"right\"> \n",
    "\n",
    "\n",
    "Now we'll upload an NDBC buoy data file we have downloaded.\n",
    "\n",
    "The left side of the screen shows folders on the JupyterLite webpage. **<em>Drag and drop</em>** your NDBC buoy data text file into the main folder containing this notebook, or use the “Upload Files” icon (upward pointing arrow on the top left of the page) to upload your file. \n",
    "\n",
    "Once the file is uploaded, assign the name of your text file to the variable `filename` in the code cell below. Make sure to use quotation marks around the name as in the example below. Note: be sure to change the name in the example code below so the filename matches your filename. \n",
    "\n",
    "**<em>Run</em>** the cell.\n",
    "\n",
    "The code line below where you specified the filename will use the pandas `read_table` function to read the data into a data frame in the code. Learn more about this function [here](https://pandas.pydata.org/docs/reference/api/pandas.read_table.html).\n",
    "\n",
    "\n",
    "<!-- ![SegmentLocal](/Users/username/some-folder/191px-Seven_segment_display-animated.gif \"segment\")\n",
    "<img src=\"FileName.gif\" width=\"750\" align=\"center\"> -->\n",
    "\n",
    "<!-- ![ChessUrl](https://upload.wikimedia.org/wikipedia/commons/7/71/ChessPawnSpecialMoves.gif \"chess\") -->"
   ]
  },
  {
   "cell_type": "code",
   "execution_count": 2,
   "metadata": {},
   "outputs": [
    {
     "data": {
      "text/html": [
       "<div>\n",
       "<style scoped>\n",
       "    .dataframe tbody tr th:only-of-type {\n",
       "        vertical-align: middle;\n",
       "    }\n",
       "\n",
       "    .dataframe tbody tr th {\n",
       "        vertical-align: top;\n",
       "    }\n",
       "\n",
       "    .dataframe thead tr th {\n",
       "        text-align: left;\n",
       "    }\n",
       "</style>\n",
       "<table border=\"1\" class=\"dataframe\">\n",
       "  <thead>\n",
       "    <tr>\n",
       "      <th></th>\n",
       "      <th>#YY</th>\n",
       "      <th>MM</th>\n",
       "      <th>DD</th>\n",
       "      <th>hh</th>\n",
       "      <th>mm</th>\n",
       "      <th>WDIR</th>\n",
       "      <th>WSPD</th>\n",
       "      <th>GST</th>\n",
       "      <th>WVHT</th>\n",
       "      <th>DPD</th>\n",
       "      <th>APD</th>\n",
       "      <th>MWD</th>\n",
       "      <th>PRES</th>\n",
       "      <th>ATMP</th>\n",
       "      <th>WTMP</th>\n",
       "      <th>DEWP</th>\n",
       "      <th>VIS</th>\n",
       "      <th>TIDE</th>\n",
       "    </tr>\n",
       "    <tr>\n",
       "      <th></th>\n",
       "      <th>#yr</th>\n",
       "      <th>mo</th>\n",
       "      <th>dy</th>\n",
       "      <th>hr</th>\n",
       "      <th>mn</th>\n",
       "      <th>degT</th>\n",
       "      <th>m/s</th>\n",
       "      <th>m/s</th>\n",
       "      <th>m</th>\n",
       "      <th>sec</th>\n",
       "      <th>sec</th>\n",
       "      <th>degT</th>\n",
       "      <th>hPa</th>\n",
       "      <th>degC</th>\n",
       "      <th>degC</th>\n",
       "      <th>degC</th>\n",
       "      <th>mi</th>\n",
       "      <th>ft</th>\n",
       "    </tr>\n",
       "  </thead>\n",
       "  <tbody>\n",
       "    <tr>\n",
       "      <th>0</th>\n",
       "      <td>2016</td>\n",
       "      <td>1</td>\n",
       "      <td>3</td>\n",
       "      <td>22</td>\n",
       "      <td>28</td>\n",
       "      <td>999</td>\n",
       "      <td>99.0</td>\n",
       "      <td>99.0</td>\n",
       "      <td>3.85</td>\n",
       "      <td>9.88</td>\n",
       "      <td>7.87</td>\n",
       "      <td>211</td>\n",
       "      <td>9999.0</td>\n",
       "      <td>999.0</td>\n",
       "      <td>7.4</td>\n",
       "      <td>999.0</td>\n",
       "      <td>99.0</td>\n",
       "      <td>99.0</td>\n",
       "    </tr>\n",
       "    <tr>\n",
       "      <th>1</th>\n",
       "      <td>2016</td>\n",
       "      <td>1</td>\n",
       "      <td>3</td>\n",
       "      <td>22</td>\n",
       "      <td>58</td>\n",
       "      <td>999</td>\n",
       "      <td>99.0</td>\n",
       "      <td>99.0</td>\n",
       "      <td>4.08</td>\n",
       "      <td>9.88</td>\n",
       "      <td>7.66</td>\n",
       "      <td>183</td>\n",
       "      <td>9999.0</td>\n",
       "      <td>999.0</td>\n",
       "      <td>7.4</td>\n",
       "      <td>999.0</td>\n",
       "      <td>99.0</td>\n",
       "      <td>99.0</td>\n",
       "    </tr>\n",
       "    <tr>\n",
       "      <th>2</th>\n",
       "      <td>2016</td>\n",
       "      <td>1</td>\n",
       "      <td>3</td>\n",
       "      <td>23</td>\n",
       "      <td>28</td>\n",
       "      <td>999</td>\n",
       "      <td>99.0</td>\n",
       "      <td>99.0</td>\n",
       "      <td>4.03</td>\n",
       "      <td>9.88</td>\n",
       "      <td>7.96</td>\n",
       "      <td>168</td>\n",
       "      <td>9999.0</td>\n",
       "      <td>999.0</td>\n",
       "      <td>7.4</td>\n",
       "      <td>999.0</td>\n",
       "      <td>99.0</td>\n",
       "      <td>99.0</td>\n",
       "    </tr>\n",
       "    <tr>\n",
       "      <th>3</th>\n",
       "      <td>2016</td>\n",
       "      <td>1</td>\n",
       "      <td>3</td>\n",
       "      <td>23</td>\n",
       "      <td>58</td>\n",
       "      <td>999</td>\n",
       "      <td>99.0</td>\n",
       "      <td>99.0</td>\n",
       "      <td>3.68</td>\n",
       "      <td>9.88</td>\n",
       "      <td>7.84</td>\n",
       "      <td>179</td>\n",
       "      <td>9999.0</td>\n",
       "      <td>999.0</td>\n",
       "      <td>7.3</td>\n",
       "      <td>999.0</td>\n",
       "      <td>99.0</td>\n",
       "      <td>99.0</td>\n",
       "    </tr>\n",
       "    <tr>\n",
       "      <th>4</th>\n",
       "      <td>2016</td>\n",
       "      <td>1</td>\n",
       "      <td>4</td>\n",
       "      <td>0</td>\n",
       "      <td>28</td>\n",
       "      <td>999</td>\n",
       "      <td>99.0</td>\n",
       "      <td>99.0</td>\n",
       "      <td>3.86</td>\n",
       "      <td>9.09</td>\n",
       "      <td>7.88</td>\n",
       "      <td>181</td>\n",
       "      <td>9999.0</td>\n",
       "      <td>999.0</td>\n",
       "      <td>7.3</td>\n",
       "      <td>999.0</td>\n",
       "      <td>99.0</td>\n",
       "      <td>99.0</td>\n",
       "    </tr>\n",
       "    <tr>\n",
       "      <th>...</th>\n",
       "      <td>...</td>\n",
       "      <td>...</td>\n",
       "      <td>...</td>\n",
       "      <td>...</td>\n",
       "      <td>...</td>\n",
       "      <td>...</td>\n",
       "      <td>...</td>\n",
       "      <td>...</td>\n",
       "      <td>...</td>\n",
       "      <td>...</td>\n",
       "      <td>...</td>\n",
       "      <td>...</td>\n",
       "      <td>...</td>\n",
       "      <td>...</td>\n",
       "      <td>...</td>\n",
       "      <td>...</td>\n",
       "      <td>...</td>\n",
       "      <td>...</td>\n",
       "    </tr>\n",
       "    <tr>\n",
       "      <th>16312</th>\n",
       "      <td>2016</td>\n",
       "      <td>12</td>\n",
       "      <td>31</td>\n",
       "      <td>21</td>\n",
       "      <td>58</td>\n",
       "      <td>999</td>\n",
       "      <td>99.0</td>\n",
       "      <td>99.0</td>\n",
       "      <td>2.85</td>\n",
       "      <td>12.50</td>\n",
       "      <td>8.31</td>\n",
       "      <td>282</td>\n",
       "      <td>9999.0</td>\n",
       "      <td>999.0</td>\n",
       "      <td>6.8</td>\n",
       "      <td>999.0</td>\n",
       "      <td>99.0</td>\n",
       "      <td>99.0</td>\n",
       "    </tr>\n",
       "    <tr>\n",
       "      <th>16313</th>\n",
       "      <td>2016</td>\n",
       "      <td>12</td>\n",
       "      <td>31</td>\n",
       "      <td>22</td>\n",
       "      <td>28</td>\n",
       "      <td>999</td>\n",
       "      <td>99.0</td>\n",
       "      <td>99.0</td>\n",
       "      <td>3.24</td>\n",
       "      <td>15.38</td>\n",
       "      <td>9.36</td>\n",
       "      <td>283</td>\n",
       "      <td>9999.0</td>\n",
       "      <td>999.0</td>\n",
       "      <td>6.8</td>\n",
       "      <td>999.0</td>\n",
       "      <td>99.0</td>\n",
       "      <td>99.0</td>\n",
       "    </tr>\n",
       "    <tr>\n",
       "      <th>16314</th>\n",
       "      <td>2016</td>\n",
       "      <td>12</td>\n",
       "      <td>31</td>\n",
       "      <td>22</td>\n",
       "      <td>58</td>\n",
       "      <td>999</td>\n",
       "      <td>99.0</td>\n",
       "      <td>99.0</td>\n",
       "      <td>2.96</td>\n",
       "      <td>15.38</td>\n",
       "      <td>9.47</td>\n",
       "      <td>285</td>\n",
       "      <td>9999.0</td>\n",
       "      <td>999.0</td>\n",
       "      <td>6.8</td>\n",
       "      <td>999.0</td>\n",
       "      <td>99.0</td>\n",
       "      <td>99.0</td>\n",
       "    </tr>\n",
       "    <tr>\n",
       "      <th>16315</th>\n",
       "      <td>2016</td>\n",
       "      <td>12</td>\n",
       "      <td>31</td>\n",
       "      <td>23</td>\n",
       "      <td>28</td>\n",
       "      <td>999</td>\n",
       "      <td>99.0</td>\n",
       "      <td>99.0</td>\n",
       "      <td>2.93</td>\n",
       "      <td>14.29</td>\n",
       "      <td>9.07</td>\n",
       "      <td>273</td>\n",
       "      <td>9999.0</td>\n",
       "      <td>999.0</td>\n",
       "      <td>6.8</td>\n",
       "      <td>999.0</td>\n",
       "      <td>99.0</td>\n",
       "      <td>99.0</td>\n",
       "    </tr>\n",
       "    <tr>\n",
       "      <th>16316</th>\n",
       "      <td>2016</td>\n",
       "      <td>12</td>\n",
       "      <td>31</td>\n",
       "      <td>23</td>\n",
       "      <td>58</td>\n",
       "      <td>999</td>\n",
       "      <td>99.0</td>\n",
       "      <td>99.0</td>\n",
       "      <td>3.05</td>\n",
       "      <td>15.38</td>\n",
       "      <td>9.94</td>\n",
       "      <td>280</td>\n",
       "      <td>9999.0</td>\n",
       "      <td>999.0</td>\n",
       "      <td>6.8</td>\n",
       "      <td>999.0</td>\n",
       "      <td>99.0</td>\n",
       "      <td>99.0</td>\n",
       "    </tr>\n",
       "  </tbody>\n",
       "</table>\n",
       "<p>16317 rows × 18 columns</p>\n",
       "</div>"
      ],
      "text/plain": [
       "        #YY  MM  DD  hh  mm WDIR  WSPD   GST  WVHT    DPD   APD  MWD    PRES  \\\n",
       "        #yr  mo  dy  hr  mn degT   m/s   m/s     m    sec   sec degT     hPa   \n",
       "0      2016   1   3  22  28  999  99.0  99.0  3.85   9.88  7.87  211  9999.0   \n",
       "1      2016   1   3  22  58  999  99.0  99.0  4.08   9.88  7.66  183  9999.0   \n",
       "2      2016   1   3  23  28  999  99.0  99.0  4.03   9.88  7.96  168  9999.0   \n",
       "3      2016   1   3  23  58  999  99.0  99.0  3.68   9.88  7.84  179  9999.0   \n",
       "4      2016   1   4   0  28  999  99.0  99.0  3.86   9.09  7.88  181  9999.0   \n",
       "...     ...  ..  ..  ..  ..  ...   ...   ...   ...    ...   ...  ...     ...   \n",
       "16312  2016  12  31  21  58  999  99.0  99.0  2.85  12.50  8.31  282  9999.0   \n",
       "16313  2016  12  31  22  28  999  99.0  99.0  3.24  15.38  9.36  283  9999.0   \n",
       "16314  2016  12  31  22  58  999  99.0  99.0  2.96  15.38  9.47  285  9999.0   \n",
       "16315  2016  12  31  23  28  999  99.0  99.0  2.93  14.29  9.07  273  9999.0   \n",
       "16316  2016  12  31  23  58  999  99.0  99.0  3.05  15.38  9.94  280  9999.0   \n",
       "\n",
       "        ATMP WTMP   DEWP   VIS  TIDE  \n",
       "        degC degC   degC    mi    ft  \n",
       "0      999.0  7.4  999.0  99.0  99.0  \n",
       "1      999.0  7.4  999.0  99.0  99.0  \n",
       "2      999.0  7.4  999.0  99.0  99.0  \n",
       "3      999.0  7.3  999.0  99.0  99.0  \n",
       "4      999.0  7.3  999.0  99.0  99.0  \n",
       "...      ...  ...    ...   ...   ...  \n",
       "16312  999.0  6.8  999.0  99.0  99.0  \n",
       "16313  999.0  6.8  999.0  99.0  99.0  \n",
       "16314  999.0  6.8  999.0  99.0  99.0  \n",
       "16315  999.0  6.8  999.0  99.0  99.0  \n",
       "16316  999.0  6.8  999.0  99.0  99.0  \n",
       "\n",
       "[16317 rows x 18 columns]"
      ]
     },
     "execution_count": 2,
     "metadata": {},
     "output_type": "execute_result"
    }
   ],
   "source": [
    "# specify the name of the text file\n",
    "filename = 'supp_info/46246h2016.txt' \n",
    "\n",
    "# use pandas to read text file into dataframe called 'df_raw'\n",
    "df_raw = pd.read_table(filename, delim_whitespace=True, header = [0,1])\n",
    "df_raw"
   ]
  },
  {
   "cell_type": "markdown",
   "metadata": {},
   "source": [
    "\n",
    "### 4. Clean the data (remove NaNs)\n",
    "***\n",
    "\n",
    "Let’s clean this data by removing any columns filled with empty data. We can tell python which values are NaN, or Not-A-Number. Refer back to the [NDBC Measurement Descriptions and Units](https://www.ndbc.noaa.gov/faq/measdes.shtml) page to determine which values in the data are NaNs. \n",
    "\n",
    "Let’s read the data in again, this time into a variable called `df`. This time tell python to drop any columns filled only with `NaN` values. \n",
    "\n",
    "**<em>Run</em>** the cell below."
   ]
  },
  {
   "cell_type": "code",
   "execution_count": 3,
   "metadata": {},
   "outputs": [
    {
     "data": {
      "text/html": [
       "<div>\n",
       "<style scoped>\n",
       "    .dataframe tbody tr th:only-of-type {\n",
       "        vertical-align: middle;\n",
       "    }\n",
       "\n",
       "    .dataframe tbody tr th {\n",
       "        vertical-align: top;\n",
       "    }\n",
       "\n",
       "    .dataframe thead tr th {\n",
       "        text-align: left;\n",
       "    }\n",
       "</style>\n",
       "<table border=\"1\" class=\"dataframe\">\n",
       "  <thead>\n",
       "    <tr>\n",
       "      <th></th>\n",
       "      <th>#YY</th>\n",
       "      <th>MM</th>\n",
       "      <th>DD</th>\n",
       "      <th>hh</th>\n",
       "      <th>mm</th>\n",
       "      <th>WVHT</th>\n",
       "      <th>DPD</th>\n",
       "      <th>APD</th>\n",
       "      <th>MWD</th>\n",
       "      <th>WTMP</th>\n",
       "    </tr>\n",
       "    <tr>\n",
       "      <th></th>\n",
       "      <th>#yr</th>\n",
       "      <th>mo</th>\n",
       "      <th>dy</th>\n",
       "      <th>hr</th>\n",
       "      <th>mn</th>\n",
       "      <th>m</th>\n",
       "      <th>sec</th>\n",
       "      <th>sec</th>\n",
       "      <th>degT</th>\n",
       "      <th>degC</th>\n",
       "    </tr>\n",
       "  </thead>\n",
       "  <tbody>\n",
       "    <tr>\n",
       "      <th>0</th>\n",
       "      <td>2016</td>\n",
       "      <td>1</td>\n",
       "      <td>3</td>\n",
       "      <td>22</td>\n",
       "      <td>28</td>\n",
       "      <td>3.85</td>\n",
       "      <td>9.88</td>\n",
       "      <td>7.87</td>\n",
       "      <td>211.0</td>\n",
       "      <td>7.4</td>\n",
       "    </tr>\n",
       "    <tr>\n",
       "      <th>1</th>\n",
       "      <td>2016</td>\n",
       "      <td>1</td>\n",
       "      <td>3</td>\n",
       "      <td>22</td>\n",
       "      <td>58</td>\n",
       "      <td>4.08</td>\n",
       "      <td>9.88</td>\n",
       "      <td>7.66</td>\n",
       "      <td>183.0</td>\n",
       "      <td>7.4</td>\n",
       "    </tr>\n",
       "    <tr>\n",
       "      <th>2</th>\n",
       "      <td>2016</td>\n",
       "      <td>1</td>\n",
       "      <td>3</td>\n",
       "      <td>23</td>\n",
       "      <td>28</td>\n",
       "      <td>4.03</td>\n",
       "      <td>9.88</td>\n",
       "      <td>7.96</td>\n",
       "      <td>168.0</td>\n",
       "      <td>7.4</td>\n",
       "    </tr>\n",
       "    <tr>\n",
       "      <th>3</th>\n",
       "      <td>2016</td>\n",
       "      <td>1</td>\n",
       "      <td>3</td>\n",
       "      <td>23</td>\n",
       "      <td>58</td>\n",
       "      <td>3.68</td>\n",
       "      <td>9.88</td>\n",
       "      <td>7.84</td>\n",
       "      <td>179.0</td>\n",
       "      <td>7.3</td>\n",
       "    </tr>\n",
       "    <tr>\n",
       "      <th>4</th>\n",
       "      <td>2016</td>\n",
       "      <td>1</td>\n",
       "      <td>4</td>\n",
       "      <td>0</td>\n",
       "      <td>28</td>\n",
       "      <td>3.86</td>\n",
       "      <td>9.09</td>\n",
       "      <td>7.88</td>\n",
       "      <td>181.0</td>\n",
       "      <td>7.3</td>\n",
       "    </tr>\n",
       "    <tr>\n",
       "      <th>...</th>\n",
       "      <td>...</td>\n",
       "      <td>...</td>\n",
       "      <td>...</td>\n",
       "      <td>...</td>\n",
       "      <td>...</td>\n",
       "      <td>...</td>\n",
       "      <td>...</td>\n",
       "      <td>...</td>\n",
       "      <td>...</td>\n",
       "      <td>...</td>\n",
       "    </tr>\n",
       "    <tr>\n",
       "      <th>16312</th>\n",
       "      <td>2016</td>\n",
       "      <td>12</td>\n",
       "      <td>31</td>\n",
       "      <td>21</td>\n",
       "      <td>58</td>\n",
       "      <td>2.85</td>\n",
       "      <td>12.50</td>\n",
       "      <td>8.31</td>\n",
       "      <td>282.0</td>\n",
       "      <td>6.8</td>\n",
       "    </tr>\n",
       "    <tr>\n",
       "      <th>16313</th>\n",
       "      <td>2016</td>\n",
       "      <td>12</td>\n",
       "      <td>31</td>\n",
       "      <td>22</td>\n",
       "      <td>28</td>\n",
       "      <td>3.24</td>\n",
       "      <td>15.38</td>\n",
       "      <td>9.36</td>\n",
       "      <td>283.0</td>\n",
       "      <td>6.8</td>\n",
       "    </tr>\n",
       "    <tr>\n",
       "      <th>16314</th>\n",
       "      <td>2016</td>\n",
       "      <td>12</td>\n",
       "      <td>31</td>\n",
       "      <td>22</td>\n",
       "      <td>58</td>\n",
       "      <td>2.96</td>\n",
       "      <td>15.38</td>\n",
       "      <td>9.47</td>\n",
       "      <td>285.0</td>\n",
       "      <td>6.8</td>\n",
       "    </tr>\n",
       "    <tr>\n",
       "      <th>16315</th>\n",
       "      <td>2016</td>\n",
       "      <td>12</td>\n",
       "      <td>31</td>\n",
       "      <td>23</td>\n",
       "      <td>28</td>\n",
       "      <td>2.93</td>\n",
       "      <td>14.29</td>\n",
       "      <td>9.07</td>\n",
       "      <td>273.0</td>\n",
       "      <td>6.8</td>\n",
       "    </tr>\n",
       "    <tr>\n",
       "      <th>16316</th>\n",
       "      <td>2016</td>\n",
       "      <td>12</td>\n",
       "      <td>31</td>\n",
       "      <td>23</td>\n",
       "      <td>58</td>\n",
       "      <td>3.05</td>\n",
       "      <td>15.38</td>\n",
       "      <td>9.94</td>\n",
       "      <td>280.0</td>\n",
       "      <td>6.8</td>\n",
       "    </tr>\n",
       "  </tbody>\n",
       "</table>\n",
       "<p>16317 rows × 10 columns</p>\n",
       "</div>"
      ],
      "text/plain": [
       "        #YY  MM  DD  hh  mm  WVHT    DPD   APD    MWD WTMP\n",
       "        #yr  mo  dy  hr  mn     m    sec   sec   degT degC\n",
       "0      2016   1   3  22  28  3.85   9.88  7.87  211.0  7.4\n",
       "1      2016   1   3  22  58  4.08   9.88  7.66  183.0  7.4\n",
       "2      2016   1   3  23  28  4.03   9.88  7.96  168.0  7.4\n",
       "3      2016   1   3  23  58  3.68   9.88  7.84  179.0  7.3\n",
       "4      2016   1   4   0  28  3.86   9.09  7.88  181.0  7.3\n",
       "...     ...  ..  ..  ..  ..   ...    ...   ...    ...  ...\n",
       "16312  2016  12  31  21  58  2.85  12.50  8.31  282.0  6.8\n",
       "16313  2016  12  31  22  28  3.24  15.38  9.36  283.0  6.8\n",
       "16314  2016  12  31  22  58  2.96  15.38  9.47  285.0  6.8\n",
       "16315  2016  12  31  23  28  2.93  14.29  9.07  273.0  6.8\n",
       "16316  2016  12  31  23  58  3.05  15.38  9.94  280.0  6.8\n",
       "\n",
       "[16317 rows x 10 columns]"
      ]
     },
     "execution_count": 3,
     "metadata": {},
     "output_type": "execute_result"
    }
   ],
   "source": [
    "# list of data values representing NaNs\n",
    "NaN = ['999', '999.0', '99.0', '9999.0']\n",
    "\n",
    "# read in data again, but drop any columns or rows filled only with NaNs\n",
    "df = pd.read_table(filename, delim_whitespace=True, header = [0,1], na_values = NaN).dropna(axis='columns', how='all').dropna(axis='rows', how='all')\n",
    "\n",
    "df"
   ]
  },
  {
   "cell_type": "markdown",
   "metadata": {},
   "source": [
    "### 5. Clean the data (create datetime objects)\n",
    "***\n",
    "We're almost ready to analyze the data. However, notice that the date information is spread across five columns. This is alright, but can make it more challenging to plot the timeseries data in a meaningful way.\n",
    "\n",
    "We can combine these five date information columns into single datetime objects containing the full date and time information. To do this, we will need to access the data in the five columns corresponding to date information. You can access the data in a given column by typing `df[col]` where `col` is the name of the desired data column in quotation marks. For example, `df[\"MM\"]` would access the months data column.\n",
    "\n",
    "\n",
    "**<em>Run</em>** the cell below to access the date data and combine them into a single array called `dates`."
   ]
  },
  {
   "cell_type": "code",
   "execution_count": 4,
   "metadata": {},
   "outputs": [],
   "source": [
    "# read date data into individual data arrays\n",
    "years = df['#YY']\n",
    "months = df['MM']\n",
    "days = df['DD']\n",
    "hours = df['hh']\n",
    "mins = df['mm']\n",
    "\n",
    "# combine them into a single array called ‘dates’\n",
    "dates = [datetime.datetime.strptime(f'{y}-{m:02d}-{d:02d}T{h:02d}:{mm:02d}', '%Y-%m-%dT%H:%M') for y, m, d, h, mm in zip(years['#yr'], months['mo'], days['dy'], hours['hr'], mins['mn'])]\n"
   ]
  },
  {
   "cell_type": "markdown",
   "metadata": {},
   "source": [
    "**<em>Run</em>** the cell below to add the date objects stored in `dates` to a new column in `df` called `\"date\"`. Look at the new `df` and make sure you see the new data column you created."
   ]
  },
  {
   "cell_type": "code",
   "execution_count": 5,
   "metadata": {},
   "outputs": [
    {
     "data": {
      "text/html": [
       "<div>\n",
       "<style scoped>\n",
       "    .dataframe tbody tr th:only-of-type {\n",
       "        vertical-align: middle;\n",
       "    }\n",
       "\n",
       "    .dataframe tbody tr th {\n",
       "        vertical-align: top;\n",
       "    }\n",
       "\n",
       "    .dataframe thead tr th {\n",
       "        text-align: left;\n",
       "    }\n",
       "</style>\n",
       "<table border=\"1\" class=\"dataframe\">\n",
       "  <thead>\n",
       "    <tr>\n",
       "      <th></th>\n",
       "      <th>#YY</th>\n",
       "      <th>MM</th>\n",
       "      <th>DD</th>\n",
       "      <th>hh</th>\n",
       "      <th>mm</th>\n",
       "      <th>WVHT</th>\n",
       "      <th>DPD</th>\n",
       "      <th>APD</th>\n",
       "      <th>MWD</th>\n",
       "      <th>WTMP</th>\n",
       "      <th>date</th>\n",
       "    </tr>\n",
       "    <tr>\n",
       "      <th></th>\n",
       "      <th>#yr</th>\n",
       "      <th>mo</th>\n",
       "      <th>dy</th>\n",
       "      <th>hr</th>\n",
       "      <th>mn</th>\n",
       "      <th>m</th>\n",
       "      <th>sec</th>\n",
       "      <th>sec</th>\n",
       "      <th>degT</th>\n",
       "      <th>degC</th>\n",
       "      <th></th>\n",
       "    </tr>\n",
       "  </thead>\n",
       "  <tbody>\n",
       "    <tr>\n",
       "      <th>0</th>\n",
       "      <td>2016</td>\n",
       "      <td>1</td>\n",
       "      <td>3</td>\n",
       "      <td>22</td>\n",
       "      <td>28</td>\n",
       "      <td>3.85</td>\n",
       "      <td>9.88</td>\n",
       "      <td>7.87</td>\n",
       "      <td>211.0</td>\n",
       "      <td>7.4</td>\n",
       "      <td>2016-01-03 22:28:00</td>\n",
       "    </tr>\n",
       "    <tr>\n",
       "      <th>1</th>\n",
       "      <td>2016</td>\n",
       "      <td>1</td>\n",
       "      <td>3</td>\n",
       "      <td>22</td>\n",
       "      <td>58</td>\n",
       "      <td>4.08</td>\n",
       "      <td>9.88</td>\n",
       "      <td>7.66</td>\n",
       "      <td>183.0</td>\n",
       "      <td>7.4</td>\n",
       "      <td>2016-01-03 22:58:00</td>\n",
       "    </tr>\n",
       "    <tr>\n",
       "      <th>2</th>\n",
       "      <td>2016</td>\n",
       "      <td>1</td>\n",
       "      <td>3</td>\n",
       "      <td>23</td>\n",
       "      <td>28</td>\n",
       "      <td>4.03</td>\n",
       "      <td>9.88</td>\n",
       "      <td>7.96</td>\n",
       "      <td>168.0</td>\n",
       "      <td>7.4</td>\n",
       "      <td>2016-01-03 23:28:00</td>\n",
       "    </tr>\n",
       "    <tr>\n",
       "      <th>3</th>\n",
       "      <td>2016</td>\n",
       "      <td>1</td>\n",
       "      <td>3</td>\n",
       "      <td>23</td>\n",
       "      <td>58</td>\n",
       "      <td>3.68</td>\n",
       "      <td>9.88</td>\n",
       "      <td>7.84</td>\n",
       "      <td>179.0</td>\n",
       "      <td>7.3</td>\n",
       "      <td>2016-01-03 23:58:00</td>\n",
       "    </tr>\n",
       "    <tr>\n",
       "      <th>4</th>\n",
       "      <td>2016</td>\n",
       "      <td>1</td>\n",
       "      <td>4</td>\n",
       "      <td>0</td>\n",
       "      <td>28</td>\n",
       "      <td>3.86</td>\n",
       "      <td>9.09</td>\n",
       "      <td>7.88</td>\n",
       "      <td>181.0</td>\n",
       "      <td>7.3</td>\n",
       "      <td>2016-01-04 00:28:00</td>\n",
       "    </tr>\n",
       "    <tr>\n",
       "      <th>...</th>\n",
       "      <td>...</td>\n",
       "      <td>...</td>\n",
       "      <td>...</td>\n",
       "      <td>...</td>\n",
       "      <td>...</td>\n",
       "      <td>...</td>\n",
       "      <td>...</td>\n",
       "      <td>...</td>\n",
       "      <td>...</td>\n",
       "      <td>...</td>\n",
       "      <td>...</td>\n",
       "    </tr>\n",
       "    <tr>\n",
       "      <th>16312</th>\n",
       "      <td>2016</td>\n",
       "      <td>12</td>\n",
       "      <td>31</td>\n",
       "      <td>21</td>\n",
       "      <td>58</td>\n",
       "      <td>2.85</td>\n",
       "      <td>12.50</td>\n",
       "      <td>8.31</td>\n",
       "      <td>282.0</td>\n",
       "      <td>6.8</td>\n",
       "      <td>2016-12-31 21:58:00</td>\n",
       "    </tr>\n",
       "    <tr>\n",
       "      <th>16313</th>\n",
       "      <td>2016</td>\n",
       "      <td>12</td>\n",
       "      <td>31</td>\n",
       "      <td>22</td>\n",
       "      <td>28</td>\n",
       "      <td>3.24</td>\n",
       "      <td>15.38</td>\n",
       "      <td>9.36</td>\n",
       "      <td>283.0</td>\n",
       "      <td>6.8</td>\n",
       "      <td>2016-12-31 22:28:00</td>\n",
       "    </tr>\n",
       "    <tr>\n",
       "      <th>16314</th>\n",
       "      <td>2016</td>\n",
       "      <td>12</td>\n",
       "      <td>31</td>\n",
       "      <td>22</td>\n",
       "      <td>58</td>\n",
       "      <td>2.96</td>\n",
       "      <td>15.38</td>\n",
       "      <td>9.47</td>\n",
       "      <td>285.0</td>\n",
       "      <td>6.8</td>\n",
       "      <td>2016-12-31 22:58:00</td>\n",
       "    </tr>\n",
       "    <tr>\n",
       "      <th>16315</th>\n",
       "      <td>2016</td>\n",
       "      <td>12</td>\n",
       "      <td>31</td>\n",
       "      <td>23</td>\n",
       "      <td>28</td>\n",
       "      <td>2.93</td>\n",
       "      <td>14.29</td>\n",
       "      <td>9.07</td>\n",
       "      <td>273.0</td>\n",
       "      <td>6.8</td>\n",
       "      <td>2016-12-31 23:28:00</td>\n",
       "    </tr>\n",
       "    <tr>\n",
       "      <th>16316</th>\n",
       "      <td>2016</td>\n",
       "      <td>12</td>\n",
       "      <td>31</td>\n",
       "      <td>23</td>\n",
       "      <td>58</td>\n",
       "      <td>3.05</td>\n",
       "      <td>15.38</td>\n",
       "      <td>9.94</td>\n",
       "      <td>280.0</td>\n",
       "      <td>6.8</td>\n",
       "      <td>2016-12-31 23:58:00</td>\n",
       "    </tr>\n",
       "  </tbody>\n",
       "</table>\n",
       "<p>16317 rows × 11 columns</p>\n",
       "</div>"
      ],
      "text/plain": [
       "        #YY  MM  DD  hh  mm  WVHT    DPD   APD    MWD WTMP                date\n",
       "        #yr  mo  dy  hr  mn     m    sec   sec   degT degC                    \n",
       "0      2016   1   3  22  28  3.85   9.88  7.87  211.0  7.4 2016-01-03 22:28:00\n",
       "1      2016   1   3  22  58  4.08   9.88  7.66  183.0  7.4 2016-01-03 22:58:00\n",
       "2      2016   1   3  23  28  4.03   9.88  7.96  168.0  7.4 2016-01-03 23:28:00\n",
       "3      2016   1   3  23  58  3.68   9.88  7.84  179.0  7.3 2016-01-03 23:58:00\n",
       "4      2016   1   4   0  28  3.86   9.09  7.88  181.0  7.3 2016-01-04 00:28:00\n",
       "...     ...  ..  ..  ..  ..   ...    ...   ...    ...  ...                 ...\n",
       "16312  2016  12  31  21  58  2.85  12.50  8.31  282.0  6.8 2016-12-31 21:58:00\n",
       "16313  2016  12  31  22  28  3.24  15.38  9.36  283.0  6.8 2016-12-31 22:28:00\n",
       "16314  2016  12  31  22  58  2.96  15.38  9.47  285.0  6.8 2016-12-31 22:58:00\n",
       "16315  2016  12  31  23  28  2.93  14.29  9.07  273.0  6.8 2016-12-31 23:28:00\n",
       "16316  2016  12  31  23  58  3.05  15.38  9.94  280.0  6.8 2016-12-31 23:58:00\n",
       "\n",
       "[16317 rows x 11 columns]"
      ]
     },
     "execution_count": 5,
     "metadata": {},
     "output_type": "execute_result"
    }
   ],
   "source": [
    "# add the dates to a new data column in df called 'date'\n",
    "df['date'] = dates\n",
    "\n",
    "df"
   ]
  },
  {
   "cell_type": "markdown",
   "metadata": {},
   "source": [
    "### 6. Plot Data\n",
    "***\n",
    "\n",
    "There are many ways to plot data. A simple one is shown below. **<em>Run</em>** the cell below to plot the **water temperature** data.\n",
    "\n",
    "Try changing `'WTMP'` to another column name to plot a different data variable."
   ]
  },
  {
   "cell_type": "code",
   "execution_count": 6,
   "metadata": {},
   "outputs": [
    {
     "data": {
      "text/plain": [
       "<AxesSubplot:>"
      ]
     },
     "execution_count": 6,
     "metadata": {},
     "output_type": "execute_result"
    },
    {
     "data": {
      "image/png": "[encoded data removed]",
      "text/plain": [
       "<Figure size 432x288 with 1 Axes>"
      ]
     },
     "metadata": {
      "needs_background": "light"
     },
     "output_type": "display_data"
    }
   ],
   "source": [
    "df['WTMP'].plot()"
   ]
  },
  {
   "cell_type": "markdown",
   "metadata": {},
   "source": [
    "What are the x and y axes of the plot?\n",
    "\n",
    "It’s better to be more specific when plotting to make sure we know what we are looking at. When plotting, we can specify what to use as the x and y axes of the plot, as well as what kind of plot to make. \n",
    "\n",
    "**<em>Run</em>** the cell below to make a timeseries of the **water temperature** data."
   ]
  },
  {
   "cell_type": "code",
   "execution_count": 7,
   "metadata": {},
   "outputs": [
    {
     "data": {
      "text/plain": [
       "<AxesSubplot:xlabel='date'>"
      ]
     },
     "execution_count": 7,
     "metadata": {},
     "output_type": "execute_result"
    },
    {
     "data": {
      "image/png": "[encoded data removed]",
      "text/plain": [
       "<Figure size 432x288 with 1 Axes>"
      ]
     },
     "metadata": {
      "needs_background": "light"
     },
     "output_type": "display_data"
    }
   ],
   "source": [
    "df.plot(x='date', y='WTMP', kind = 'line')"
   ]
  },
  {
   "cell_type": "markdown",
   "metadata": {},
   "source": [
    "Now we'll modify the code above to plot a timeseries of the **wave direction** variable. \n",
    "\n",
    "**<em>Run</em>** the cell below to make a timeseries of the **wave direction** data.\n",
    "\n",
    "Can you tell what the most common wave direction is? "
   ]
  },
  {
   "cell_type": "code",
   "execution_count": 8,
   "metadata": {},
   "outputs": [
    {
     "data": {
      "text/plain": [
       "<AxesSubplot:xlabel='date'>"
      ]
     },
     "execution_count": 8,
     "metadata": {},
     "output_type": "execute_result"
    },
    {
     "data": {
      "image/png": "[encoded data removed]",
      "text/plain": [
       "<Figure size 432x288 with 1 Axes>"
      ]
     },
     "metadata": {
      "needs_background": "light"
     },
     "output_type": "display_data"
    }
   ],
   "source": [
    "df.plot(x='date', y='MWD', kind = 'line')"
   ]
  },
  {
   "cell_type": "markdown",
   "metadata": {},
   "source": [
    "Make a histogram of the wave direction variable using the code below. Is it easier to determine what the most frequent wave direction is? What is it?"
   ]
  },
  {
   "cell_type": "code",
   "execution_count": 9,
   "metadata": {},
   "outputs": [
    {
     "data": {
      "text/plain": [
       "<AxesSubplot:ylabel='Frequency'>"
      ]
     },
     "execution_count": 9,
     "metadata": {},
     "output_type": "execute_result"
    },
    {
     "data": {
      "image/png": "[encoded data removed]",
      "text/plain": [
       "<Figure size 432x288 with 1 Axes>"
      ]
     },
     "metadata": {
      "needs_background": "light"
     },
     "output_type": "display_data"
    }
   ],
   "source": [
    "df['MWD'].plot(kind='hist') "
   ]
  },
  {
   "cell_type": "markdown",
   "metadata": {},
   "source": [
    "### 7. Analyze Data\n",
    "***\n",
    "\n",
    "Return to your timeseries plot of **water temperature** data. \n",
    "\n",
    "1. What is the mean and standard deviation of the water temperature data?\n",
    "\n",
    "2. Can you tell what percentage of the total time the water was above 10 degrees Celsius? \n",
    "\n",
    "3. Can you determine the minimum or maximum temperatures and when these occurred?\n",
    "\n",
    "We can use code to answer these questions precisely!\n"
   ]
  },
  {
   "cell_type": "markdown",
   "metadata": {},
   "source": [
    "#### Task 1\n",
    "\n",
    "**<em>Run</em>** the cell below to calculate and print the mean and standard deviation in water temperatures."
   ]
  },
  {
   "cell_type": "code",
   "execution_count": 10,
   "metadata": {},
   "outputs": [
    {
     "name": "stdout",
     "output_type": "stream",
     "text": [
      "degC    9.815714\n",
      "dtype: float64\n",
      "\n",
      "degC    3.355409\n",
      "dtype: float64\n"
     ]
    }
   ],
   "source": [
    "print(df['WTMP'].mean())\n",
    "print()\n",
    "print(df['WTMP'].std())"
   ]
  },
  {
   "cell_type": "markdown",
   "metadata": {},
   "source": [
    "#### Task 2\n",
    "\n",
    "**<em>Run</em>** the cell below to highlight times where the water temperature was above 10 degrees C, and calculate what percentage of time this was the case.\n",
    "\n",
    "Modify the first line of code `T = 10` to set a different temperature threshold, and **<em>run</em>** the cell again.\n",
    "\n",
    "Use this to determine how often the water temperature was more than a standard deviation above the mean, and over which months this occurred.\n",
    "  \n"
   ]
  },
  {
   "cell_type": "code",
   "execution_count": 11,
   "metadata": {},
   "outputs": [
    {
     "name": "stdout",
     "output_type": "stream",
     "text": [
      "\n",
      "percentage of time water temp is above 10 degC: 40.5%\n",
      "\n"
     ]
    },
    {
     "data": {
      "image/png": "[encoded data removed]",
      "text/plain": [
       "<Figure size 432x288 with 1 Axes>"
      ]
     },
     "metadata": {
      "needs_background": "light"
     },
     "output_type": "display_data"
    }
   ],
   "source": [
    "# temperature threshold (degC)\n",
    "T = 10\n",
    "\n",
    "# total time series length\n",
    "total_duration = len(df)\n",
    "# length of time with temperature above threshold\n",
    "duration_above = np.sum(df['WTMP'] > T).values[0]\n",
    "# percentage of time above temperature threshold\n",
    "time_per = 100*duration_above/total_duration\n",
    "\n",
    "print(f'\\npercentage of time water temp is above {T} degC: {time_per:.1f}%\\n')\n",
    "\n",
    "# plot the data\n",
    "fig, ax = plt.subplots()\n",
    "plt.plot(df['date'], df['WTMP'].values, c='black')\n",
    "plt.scatter(df[(df['WTMP'] > T).any(axis=1)].date, df[(df['WTMP'] > T).any(axis=1)].WTMP, c='orange', label=f'T>{T}');\n",
    "plt.xlabel('date')\n",
    "plt.ylabel('temperature ($^{\\circ}$C)')\n",
    "plt.legend();\n",
    "fig.savefig('water_temp.png', dpi=300);"
   ]
  },
  {
   "cell_type": "markdown",
   "metadata": {},
   "source": [
    "Notice that this code also saved your plot as `water_temp.png`. You can download the image to your computer by right clicking the file name and selecting **Download**.\n",
    "\n",
    "<img src=\"supp_info/save_img.png\" width=\"200\" align=\"right\"> "
   ]
  },
  {
   "cell_type": "markdown",
   "metadata": {},
   "source": [
    "#### Task 2\n",
    "\n",
    "Use the code below to find min and max temperature values, and when these occurred."
   ]
  },
  {
   "cell_type": "code",
   "execution_count": 12,
   "metadata": {},
   "outputs": [
    {
     "name": "stdout",
     "output_type": "stream",
     "text": [
      "\n",
      "max WTMP 6.0 degC occurred on 2016-08-25T22:28:00.000000000\n",
      "min WTMP 16.5 degC occurred on 2016-03-18T12:58:00.000000000\n",
      "\n"
     ]
    },
    {
     "data": {
      "image/png": "[encoded data removed]",
      "text/plain": [
       "<Figure size 432x288 with 1 Axes>"
      ]
     },
     "metadata": {
      "needs_background": "light"
     },
     "output_type": "display_data"
    }
   ],
   "source": [
    "# specify data columm\n",
    "col = 'WTMP'\n",
    "\n",
    "# find min/max values\n",
    "min_val = df[col].min()[0]\n",
    "max_val = df[col].max()[0]\n",
    "\n",
    "# find dates of min/max value occurrences\n",
    "date_min = df.iloc[df[col].idxmin()].date.values[0]\n",
    "date_max = df.iloc[df[col].idxmax()].date.values[0]\n",
    "\n",
    "# print\n",
    "print(f\"\\nmax {col} {min_val} {df[col].columns[0]} occurred on {date_max}\")\n",
    "print(f\"min {col} {max_val} {df[col].columns[0]} occurred on {date_min}\\n\")\n",
    "\n",
    "# plot the data\n",
    "fig, ax = plt.subplots()\n",
    "plt.plot(df['date'], df[col].values, c='black', zorder=-1)\n",
    "plt.scatter(date_min, min_val, c='orange', edgecolor='k', label='min');\n",
    "plt.scatter(date_max, max_val, c='red', edgecolor='k', label='max');\n",
    "plt.xlabel('date')\n",
    "plt.ylabel(f'{col} ({df[col].columns[0]})')\n",
    "plt.legend();\n",
    "fig.savefig('water_temp_minmax.png', dpi=300)\n"
   ]
  },
  {
   "cell_type": "markdown",
   "metadata": {},
   "source": [
    "What is the answer? Modify the col variable to answer this same question for a different data variable. Note that this will only print the first date of occurrence if these values were reached multiple times. \n",
    "\n",
    "This code saves the produced plot as water_temp_minmax.png\n"
   ]
  },
  {
   "cell_type": "markdown",
   "metadata": {},
   "source": [
    "#### Bonus Task\n",
    "Use the code below to create a python function which subsets the data over a date range.\n"
   ]
  },
  {
   "cell_type": "code",
   "execution_count": 13,
   "metadata": {},
   "outputs": [],
   "source": [
    "# create a function to find index of date in python range \n",
    "def subset_by_date(date_i, date_f, df):\n",
    "    # date_i: initial date \n",
    "    # date_f: final date \n",
    "    # df: pandas dataframe\n",
    "    indices = []\n",
    "    for date in [date_i, date_f]:\n",
    "        if np.sum(df.date == date) == 0: \n",
    "            print(f'date {date} not in file') # print error if given date not in file\n",
    "        else:\n",
    "        # find index of specified date\n",
    "            index = df[df.date == date].index.values[0]\n",
    "            indices.append(index)\n",
    "    print(f'\\nsubset data between {date_i} and {date_f}\\n')\n",
    "    return df[indices[0]:indices[1]]\n"
   ]
  },
  {
   "cell_type": "markdown",
   "metadata": {},
   "source": [
    "Run the code. In a cell below, run the following code to plot over a specified date range. Modify the date range by changing  date1 and date2 so that your code refers to some range of dates in your specific dataset. You will get an error if either date1 or date2 do not correspond to dates in your dataset. "
   ]
  },
  {
   "cell_type": "code",
   "execution_count": 14,
   "metadata": {},
   "outputs": [
    {
     "name": "stdout",
     "output_type": "stream",
     "text": [
      "\n",
      "subset data between 2016-06-01 01:28:00 and 2016-07-31 23:28:00\n",
      "\n"
     ]
    },
    {
     "data": {
      "image/png": "[encoded data removed]",
      "text/plain": [
       "<Figure size 432x288 with 1 Axes>"
      ]
     },
     "metadata": {
      "needs_background": "light"
     },
     "output_type": "display_data"
    }
   ],
   "source": [
    "# specify start and end dates of desired date range\n",
    "date1 = datetime.datetime(year = 2016, month = 6, day = 1, hour = 1, minute = 28)\n",
    "date2 = datetime.datetime(year = 2016, month = 7, day = 31, hour = 23, minute = 28)\n",
    "\n",
    "# run the function to create subsetted dataframe\n",
    "df_subset = subset_by_date(date1, date2, df)\n",
    "# make plot\n",
    "df_subset.plot(x='date', y='WTMP', kind = 'line', color='black');"
   ]
  },
  {
   "cell_type": "markdown",
   "metadata": {},
   "source": [
    "### Closing out\n",
    "\n",
    "Once you are finished, navigate to **File** in the top ribbon of the webpage. \n",
    "\n",
    "From there, **save** the notebook. \n",
    "\n",
    "Then, you can **Download** the notebook to save it to your computer. \n",
    "\n",
    "Once you are all finished, select **Close and Shutdown Notebook** to terminate the code.\n",
    "\n",
    "<img src=\"supp_info/close.png\" width=\"400\" align=\"right\"> \n",
    "\n",
    "The code you created today can be modified to explore different data. If you’d like to run the code again on JupyterLite at a later date, keep track of the notebook you created today and the link to where you downloaded the data. You can re-upload both to JupyterLite and run the code again, or modify it to explore a new data set."
   ]
  },
  {
   "cell_type": "code",
   "execution_count": null,
   "metadata": {},
   "outputs": [],
   "source": []
  }
 ],
 "metadata": {
  "kernelspec": {
   "display_name": "Python 3 (ipykernel)",
   "language": "python",
   "name": "python3"
  },
  "language_info": {
   "codemirror_mode": {
    "name": "ipython",
    "version": 3
   },
   "file_extension": ".py",
   "mimetype": "text/x-python",
   "name": "python",
   "nbconvert_exporter": "python",
   "pygments_lexer": "ipython3",
   "version": "3.9.12"
  }
 },
 "nbformat": 4,
 "nbformat_minor": 4
}
